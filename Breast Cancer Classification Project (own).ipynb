{
 "cells": [
  {
   "cell_type": "code",
   "execution_count": 1,
   "metadata": {
    "scrolled": true
   },
   "outputs": [
    {
     "data": {
      "text/html": [
       "<div>\n",
       "<style scoped>\n",
       "    .dataframe tbody tr th:only-of-type {\n",
       "        vertical-align: middle;\n",
       "    }\n",
       "\n",
       "    .dataframe tbody tr th {\n",
       "        vertical-align: top;\n",
       "    }\n",
       "\n",
       "    .dataframe thead th {\n",
       "        text-align: right;\n",
       "    }\n",
       "</style>\n",
       "<table border=\"1\" class=\"dataframe\">\n",
       "  <thead>\n",
       "    <tr style=\"text-align: right;\">\n",
       "      <th></th>\n",
       "      <th>mean_radius</th>\n",
       "      <th>mean_texture</th>\n",
       "      <th>mean_perimeter</th>\n",
       "      <th>mean_area</th>\n",
       "      <th>mean_smoothness</th>\n",
       "      <th>diagnosis</th>\n",
       "    </tr>\n",
       "  </thead>\n",
       "  <tbody>\n",
       "    <tr>\n",
       "      <th>0</th>\n",
       "      <td>17.99</td>\n",
       "      <td>10.38</td>\n",
       "      <td>122.80</td>\n",
       "      <td>1001.0</td>\n",
       "      <td>0.11840</td>\n",
       "      <td>0</td>\n",
       "    </tr>\n",
       "    <tr>\n",
       "      <th>1</th>\n",
       "      <td>20.57</td>\n",
       "      <td>17.77</td>\n",
       "      <td>132.90</td>\n",
       "      <td>1326.0</td>\n",
       "      <td>0.08474</td>\n",
       "      <td>0</td>\n",
       "    </tr>\n",
       "    <tr>\n",
       "      <th>2</th>\n",
       "      <td>19.69</td>\n",
       "      <td>21.25</td>\n",
       "      <td>130.00</td>\n",
       "      <td>1203.0</td>\n",
       "      <td>0.10960</td>\n",
       "      <td>0</td>\n",
       "    </tr>\n",
       "    <tr>\n",
       "      <th>3</th>\n",
       "      <td>11.42</td>\n",
       "      <td>20.38</td>\n",
       "      <td>77.58</td>\n",
       "      <td>386.1</td>\n",
       "      <td>0.14250</td>\n",
       "      <td>0</td>\n",
       "    </tr>\n",
       "    <tr>\n",
       "      <th>4</th>\n",
       "      <td>20.29</td>\n",
       "      <td>14.34</td>\n",
       "      <td>135.10</td>\n",
       "      <td>1297.0</td>\n",
       "      <td>0.10030</td>\n",
       "      <td>0</td>\n",
       "    </tr>\n",
       "  </tbody>\n",
       "</table>\n",
       "</div>"
      ],
      "text/plain": [
       "   mean_radius  mean_texture  mean_perimeter  mean_area  mean_smoothness  \\\n",
       "0        17.99         10.38          122.80     1001.0          0.11840   \n",
       "1        20.57         17.77          132.90     1326.0          0.08474   \n",
       "2        19.69         21.25          130.00     1203.0          0.10960   \n",
       "3        11.42         20.38           77.58      386.1          0.14250   \n",
       "4        20.29         14.34          135.10     1297.0          0.10030   \n",
       "\n",
       "   diagnosis  \n",
       "0          0  \n",
       "1          0  \n",
       "2          0  \n",
       "3          0  \n",
       "4          0  "
      ]
     },
     "execution_count": 1,
     "metadata": {},
     "output_type": "execute_result"
    }
   ],
   "source": [
    "# importing standard libraries\n",
    "import matplotlib.pyplot as plt\n",
    "import numpy as np\n",
    "import pandas as pd\n",
    "import seaborn as sns\n",
    "\n",
    "df = pd.read_csv(\"/Users/Tejas/csv_files/breast_cancer_data/Breast_cancer_data.csv\")\n",
    "df.head()"
   ]
  },
  {
   "cell_type": "code",
   "execution_count": 2,
   "metadata": {},
   "outputs": [
    {
     "name": "stdout",
     "output_type": "stream",
     "text": [
      "<class 'pandas.core.frame.DataFrame'>\n",
      "RangeIndex: 569 entries, 0 to 568\n",
      "Data columns (total 6 columns):\n",
      " #   Column           Non-Null Count  Dtype  \n",
      "---  ------           --------------  -----  \n",
      " 0   mean_radius      569 non-null    float64\n",
      " 1   mean_texture     569 non-null    float64\n",
      " 2   mean_perimeter   569 non-null    float64\n",
      " 3   mean_area        569 non-null    float64\n",
      " 4   mean_smoothness  569 non-null    float64\n",
      " 5   diagnosis        569 non-null    int64  \n",
      "dtypes: float64(5), int64(1)\n",
      "memory usage: 26.8 KB\n"
     ]
    }
   ],
   "source": [
    "# brief description of the data\n",
    "df.info()"
   ]
  },
  {
   "cell_type": "code",
   "execution_count": 3,
   "metadata": {},
   "outputs": [
    {
     "data": {
      "text/plain": [
       "(569, 6)"
      ]
     },
     "execution_count": 3,
     "metadata": {},
     "output_type": "execute_result"
    }
   ],
   "source": [
    "# shape of the data\n",
    "df.shape"
   ]
  },
  {
   "cell_type": "code",
   "execution_count": 4,
   "metadata": {},
   "outputs": [
    {
     "data": {
      "text/plain": [
       "mean_radius        0\n",
       "mean_texture       0\n",
       "mean_perimeter     0\n",
       "mean_area          0\n",
       "mean_smoothness    0\n",
       "diagnosis          0\n",
       "dtype: int64"
      ]
     },
     "execution_count": 4,
     "metadata": {},
     "output_type": "execute_result"
    }
   ],
   "source": [
    "# looking at the number of missing values\n",
    "df.isnull().sum()"
   ]
  },
  {
   "cell_type": "code",
   "execution_count": 5,
   "metadata": {},
   "outputs": [
    {
     "data": {
      "text/plain": [
       "diagnosis          1.000000\n",
       "mean_smoothness   -0.358560\n",
       "mean_texture      -0.415185\n",
       "mean_area         -0.708984\n",
       "mean_radius       -0.730029\n",
       "mean_perimeter    -0.742636\n",
       "Name: diagnosis, dtype: float64"
      ]
     },
     "execution_count": 5,
     "metadata": {},
     "output_type": "execute_result"
    }
   ],
   "source": [
    "# features relationships with the target\n",
    "df.corr()['diagnosis'].sort_values(ascending=False)"
   ]
  },
  {
   "cell_type": "code",
   "execution_count": 6,
   "metadata": {},
   "outputs": [
    {
     "data": {
      "text/plain": [
       "mean_radius        False\n",
       "mean_texture       False\n",
       "mean_perimeter     False\n",
       "mean_area          False\n",
       "mean_smoothness    False\n",
       "dtype: bool"
      ]
     },
     "execution_count": 6,
     "metadata": {},
     "output_type": "execute_result"
    }
   ],
   "source": [
    "# creating mutual info scores\n",
    "X = df.copy()\n",
    "y = X.pop('diagnosis')\n",
    "\n",
    "discrete_features = X.dtypes == int\n",
    "discrete_features"
   ]
  },
  {
   "cell_type": "code",
   "execution_count": 7,
   "metadata": {},
   "outputs": [
    {
     "data": {
      "text/plain": [
       "mean_perimeter     0.404519\n",
       "mean_radius        0.370529\n",
       "mean_area          0.363130\n",
       "mean_texture       0.100194\n",
       "mean_smoothness    0.083930\n",
       "Name: mi_scores, dtype: float64"
      ]
     },
     "execution_count": 7,
     "metadata": {},
     "output_type": "execute_result"
    }
   ],
   "source": [
    "from sklearn.feature_selection import mutual_info_regression\n",
    "\n",
    "def make_mi_scores(X, y, discrete_features):\n",
    "    mi_scores = mutual_info_regression(X, y, discrete_features=discrete_features)\n",
    "    mi_scores = pd.Series(mi_scores, name='mi_scores', index=X.columns)\n",
    "    mi_scores = mi_scores.sort_values(ascending=False)\n",
    "    return mi_scores\n",
    "\n",
    "make_mi_scores(X, y, discrete_features)"
   ]
  },
  {
   "cell_type": "code",
   "execution_count": 8,
   "metadata": {},
   "outputs": [],
   "source": [
    "# creating clusters with KMeans\n",
    "from sklearn.cluster import KMeans"
   ]
  },
  {
   "cell_type": "code",
   "execution_count": 9,
   "metadata": {},
   "outputs": [
    {
     "data": {
      "text/html": [
       "<div>\n",
       "<style scoped>\n",
       "    .dataframe tbody tr th:only-of-type {\n",
       "        vertical-align: middle;\n",
       "    }\n",
       "\n",
       "    .dataframe tbody tr th {\n",
       "        vertical-align: top;\n",
       "    }\n",
       "\n",
       "    .dataframe thead th {\n",
       "        text-align: right;\n",
       "    }\n",
       "</style>\n",
       "<table border=\"1\" class=\"dataframe\">\n",
       "  <thead>\n",
       "    <tr style=\"text-align: right;\">\n",
       "      <th></th>\n",
       "      <th>mean_radius</th>\n",
       "      <th>mean_texture</th>\n",
       "      <th>mean_perimeter</th>\n",
       "      <th>mean_area</th>\n",
       "      <th>mean_smoothness</th>\n",
       "      <th>cluster</th>\n",
       "    </tr>\n",
       "  </thead>\n",
       "  <tbody>\n",
       "    <tr>\n",
       "      <th>0</th>\n",
       "      <td>17.99</td>\n",
       "      <td>10.38</td>\n",
       "      <td>122.80</td>\n",
       "      <td>1001.0</td>\n",
       "      <td>0.11840</td>\n",
       "      <td>5</td>\n",
       "    </tr>\n",
       "    <tr>\n",
       "      <th>1</th>\n",
       "      <td>20.57</td>\n",
       "      <td>17.77</td>\n",
       "      <td>132.90</td>\n",
       "      <td>1326.0</td>\n",
       "      <td>0.08474</td>\n",
       "      <td>1</td>\n",
       "    </tr>\n",
       "    <tr>\n",
       "      <th>2</th>\n",
       "      <td>19.69</td>\n",
       "      <td>21.25</td>\n",
       "      <td>130.00</td>\n",
       "      <td>1203.0</td>\n",
       "      <td>0.10960</td>\n",
       "      <td>1</td>\n",
       "    </tr>\n",
       "    <tr>\n",
       "      <th>3</th>\n",
       "      <td>11.42</td>\n",
       "      <td>20.38</td>\n",
       "      <td>77.58</td>\n",
       "      <td>386.1</td>\n",
       "      <td>0.14250</td>\n",
       "      <td>2</td>\n",
       "    </tr>\n",
       "    <tr>\n",
       "      <th>4</th>\n",
       "      <td>20.29</td>\n",
       "      <td>14.34</td>\n",
       "      <td>135.10</td>\n",
       "      <td>1297.0</td>\n",
       "      <td>0.10030</td>\n",
       "      <td>1</td>\n",
       "    </tr>\n",
       "  </tbody>\n",
       "</table>\n",
       "</div>"
      ],
      "text/plain": [
       "   mean_radius  mean_texture  mean_perimeter  mean_area  mean_smoothness  \\\n",
       "0        17.99         10.38          122.80     1001.0          0.11840   \n",
       "1        20.57         17.77          132.90     1326.0          0.08474   \n",
       "2        19.69         21.25          130.00     1203.0          0.10960   \n",
       "3        11.42         20.38           77.58      386.1          0.14250   \n",
       "4        20.29         14.34          135.10     1297.0          0.10030   \n",
       "\n",
       "  cluster  \n",
       "0       5  \n",
       "1       1  \n",
       "2       1  \n",
       "3       2  \n",
       "4       1  "
      ]
     },
     "execution_count": 9,
     "metadata": {},
     "output_type": "execute_result"
    }
   ],
   "source": [
    "kmeans = KMeans(n_clusters=6)\n",
    "X['cluster'] = kmeans.fit_predict(X)\n",
    "X['cluster'] = X['cluster'].astype('category')\n",
    "\n",
    "X.head()"
   ]
  },
  {
   "cell_type": "code",
   "execution_count": 10,
   "metadata": {},
   "outputs": [
    {
     "data": {
      "image/png": "[encoded data removed]",
      "text/plain": [
       "<Figure size 430.125x360 with 1 Axes>"
      ]
     },
     "metadata": {
      "needs_background": "light"
     },
     "output_type": "display_data"
    }
   ],
   "source": [
    "# visualizing cluster impact on features\n",
    "sns.relplot(x='mean_radius', y='mean_texture', hue='cluster', data=X, height=5)\n",
    "plt.show()"
   ]
  },
  {
   "cell_type": "code",
   "execution_count": 11,
   "metadata": {},
   "outputs": [],
   "source": [
    "# scaling data for PCA\n",
    "from sklearn.preprocessing import MinMaxScaler"
   ]
  },
  {
   "cell_type": "code",
   "execution_count": 12,
   "metadata": {},
   "outputs": [
    {
     "data": {
      "text/html": [
       "<div>\n",
       "<style scoped>\n",
       "    .dataframe tbody tr th:only-of-type {\n",
       "        vertical-align: middle;\n",
       "    }\n",
       "\n",
       "    .dataframe tbody tr th {\n",
       "        vertical-align: top;\n",
       "    }\n",
       "\n",
       "    .dataframe thead th {\n",
       "        text-align: right;\n",
       "    }\n",
       "</style>\n",
       "<table border=\"1\" class=\"dataframe\">\n",
       "  <thead>\n",
       "    <tr style=\"text-align: right;\">\n",
       "      <th></th>\n",
       "      <th>mean_radius</th>\n",
       "      <th>mean_texture</th>\n",
       "      <th>mean_perimeter</th>\n",
       "      <th>mean_area</th>\n",
       "      <th>mean_smoothness</th>\n",
       "      <th>cluster</th>\n",
       "    </tr>\n",
       "  </thead>\n",
       "  <tbody>\n",
       "    <tr>\n",
       "      <th>0</th>\n",
       "      <td>0.521037</td>\n",
       "      <td>0.022658</td>\n",
       "      <td>0.545989</td>\n",
       "      <td>0.363733</td>\n",
       "      <td>0.593753</td>\n",
       "      <td>5</td>\n",
       "    </tr>\n",
       "    <tr>\n",
       "      <th>1</th>\n",
       "      <td>0.643144</td>\n",
       "      <td>0.272574</td>\n",
       "      <td>0.615783</td>\n",
       "      <td>0.501591</td>\n",
       "      <td>0.289880</td>\n",
       "      <td>1</td>\n",
       "    </tr>\n",
       "    <tr>\n",
       "      <th>2</th>\n",
       "      <td>0.601496</td>\n",
       "      <td>0.390260</td>\n",
       "      <td>0.595743</td>\n",
       "      <td>0.449417</td>\n",
       "      <td>0.514309</td>\n",
       "      <td>1</td>\n",
       "    </tr>\n",
       "    <tr>\n",
       "      <th>3</th>\n",
       "      <td>0.210090</td>\n",
       "      <td>0.360839</td>\n",
       "      <td>0.233501</td>\n",
       "      <td>0.102906</td>\n",
       "      <td>0.811321</td>\n",
       "      <td>2</td>\n",
       "    </tr>\n",
       "    <tr>\n",
       "      <th>4</th>\n",
       "      <td>0.629893</td>\n",
       "      <td>0.156578</td>\n",
       "      <td>0.630986</td>\n",
       "      <td>0.489290</td>\n",
       "      <td>0.430351</td>\n",
       "      <td>1</td>\n",
       "    </tr>\n",
       "    <tr>\n",
       "      <th>...</th>\n",
       "      <td>...</td>\n",
       "      <td>...</td>\n",
       "      <td>...</td>\n",
       "      <td>...</td>\n",
       "      <td>...</td>\n",
       "      <td>...</td>\n",
       "    </tr>\n",
       "    <tr>\n",
       "      <th>564</th>\n",
       "      <td>0.690000</td>\n",
       "      <td>0.428813</td>\n",
       "      <td>0.678668</td>\n",
       "      <td>0.566490</td>\n",
       "      <td>0.526948</td>\n",
       "      <td>1</td>\n",
       "    </tr>\n",
       "    <tr>\n",
       "      <th>565</th>\n",
       "      <td>0.622320</td>\n",
       "      <td>0.626987</td>\n",
       "      <td>0.604036</td>\n",
       "      <td>0.474019</td>\n",
       "      <td>0.407782</td>\n",
       "      <td>1</td>\n",
       "    </tr>\n",
       "    <tr>\n",
       "      <th>566</th>\n",
       "      <td>0.455251</td>\n",
       "      <td>0.621238</td>\n",
       "      <td>0.445788</td>\n",
       "      <td>0.303118</td>\n",
       "      <td>0.288165</td>\n",
       "      <td>5</td>\n",
       "    </tr>\n",
       "    <tr>\n",
       "      <th>567</th>\n",
       "      <td>0.644564</td>\n",
       "      <td>0.663510</td>\n",
       "      <td>0.665538</td>\n",
       "      <td>0.475716</td>\n",
       "      <td>0.588336</td>\n",
       "      <td>1</td>\n",
       "    </tr>\n",
       "    <tr>\n",
       "      <th>568</th>\n",
       "      <td>0.036869</td>\n",
       "      <td>0.501522</td>\n",
       "      <td>0.028540</td>\n",
       "      <td>0.015907</td>\n",
       "      <td>0.000000</td>\n",
       "      <td>2</td>\n",
       "    </tr>\n",
       "  </tbody>\n",
       "</table>\n",
       "<p>569 rows × 6 columns</p>\n",
       "</div>"
      ],
      "text/plain": [
       "     mean_radius  mean_texture  mean_perimeter  mean_area  mean_smoothness  \\\n",
       "0       0.521037      0.022658        0.545989   0.363733         0.593753   \n",
       "1       0.643144      0.272574        0.615783   0.501591         0.289880   \n",
       "2       0.601496      0.390260        0.595743   0.449417         0.514309   \n",
       "3       0.210090      0.360839        0.233501   0.102906         0.811321   \n",
       "4       0.629893      0.156578        0.630986   0.489290         0.430351   \n",
       "..           ...           ...             ...        ...              ...   \n",
       "564     0.690000      0.428813        0.678668   0.566490         0.526948   \n",
       "565     0.622320      0.626987        0.604036   0.474019         0.407782   \n",
       "566     0.455251      0.621238        0.445788   0.303118         0.288165   \n",
       "567     0.644564      0.663510        0.665538   0.475716         0.588336   \n",
       "568     0.036869      0.501522        0.028540   0.015907         0.000000   \n",
       "\n",
       "    cluster  \n",
       "0         5  \n",
       "1         1  \n",
       "2         1  \n",
       "3         2  \n",
       "4         1  \n",
       "..      ...  \n",
       "564       1  \n",
       "565       1  \n",
       "566       5  \n",
       "567       1  \n",
       "568       2  \n",
       "\n",
       "[569 rows x 6 columns]"
      ]
     },
     "execution_count": 12,
     "metadata": {},
     "output_type": "execute_result"
    }
   ],
   "source": [
    "scaler = MinMaxScaler()\n",
    "X_scaled = pd.DataFrame(scaler.fit_transform(X.iloc[:, :-1]), columns=X.columns[:-1])\n",
    "X_droped = X.drop(X.columns[:-1], axis=1)\n",
    "X_scaled = pd.concat([X_scaled, X_droped], axis=1)\n",
    "X_scaled"
   ]
  },
  {
   "cell_type": "code",
   "execution_count": 13,
   "metadata": {},
   "outputs": [],
   "source": [
    "# Applying PCA\n",
    "from sklearn.decomposition import PCA"
   ]
  },
  {
   "cell_type": "code",
   "execution_count": 14,
   "metadata": {
    "scrolled": true
   },
   "outputs": [
    {
     "data": {
      "text/html": [
       "<div>\n",
       "<style scoped>\n",
       "    .dataframe tbody tr th:only-of-type {\n",
       "        vertical-align: middle;\n",
       "    }\n",
       "\n",
       "    .dataframe tbody tr th {\n",
       "        vertical-align: top;\n",
       "    }\n",
       "\n",
       "    .dataframe thead th {\n",
       "        text-align: right;\n",
       "    }\n",
       "</style>\n",
       "<table border=\"1\" class=\"dataframe\">\n",
       "  <thead>\n",
       "    <tr style=\"text-align: right;\">\n",
       "      <th></th>\n",
       "      <th>mean_radius</th>\n",
       "      <th>mean_texture</th>\n",
       "      <th>mean_perimeter</th>\n",
       "      <th>mean_area</th>\n",
       "      <th>mean_smoothness</th>\n",
       "      <th>cluster</th>\n",
       "      <th>PC1</th>\n",
       "      <th>PC2</th>\n",
       "      <th>PC3</th>\n",
       "      <th>PC4</th>\n",
       "      <th>PC5</th>\n",
       "    </tr>\n",
       "  </thead>\n",
       "  <tbody>\n",
       "    <tr>\n",
       "      <th>0</th>\n",
       "      <td>0.521037</td>\n",
       "      <td>0.022658</td>\n",
       "      <td>0.545989</td>\n",
       "      <td>0.363733</td>\n",
       "      <td>0.593753</td>\n",
       "      <td>5</td>\n",
       "      <td>0.261611</td>\n",
       "      <td>-0.401720</td>\n",
       "      <td>-0.006746</td>\n",
       "      <td>-0.024422</td>\n",
       "      <td>0.016742</td>\n",
       "    </tr>\n",
       "    <tr>\n",
       "      <th>1</th>\n",
       "      <td>0.643144</td>\n",
       "      <td>0.272574</td>\n",
       "      <td>0.615783</td>\n",
       "      <td>0.501591</td>\n",
       "      <td>0.289880</td>\n",
       "      <td>1</td>\n",
       "      <td>0.468230</td>\n",
       "      <td>-0.072510</td>\n",
       "      <td>-0.206749</td>\n",
       "      <td>0.017864</td>\n",
       "      <td>-0.010151</td>\n",
       "    </tr>\n",
       "    <tr>\n",
       "      <th>2</th>\n",
       "      <td>0.601496</td>\n",
       "      <td>0.390260</td>\n",
       "      <td>0.595743</td>\n",
       "      <td>0.449417</td>\n",
       "      <td>0.514309</td>\n",
       "      <td>1</td>\n",
       "      <td>0.452193</td>\n",
       "      <td>-0.060271</td>\n",
       "      <td>0.054644</td>\n",
       "      <td>0.000210</td>\n",
       "      <td>-0.004461</td>\n",
       "    </tr>\n",
       "    <tr>\n",
       "      <th>3</th>\n",
       "      <td>0.210090</td>\n",
       "      <td>0.360839</td>\n",
       "      <td>0.233501</td>\n",
       "      <td>0.102906</td>\n",
       "      <td>0.811321</td>\n",
       "      <td>2</td>\n",
       "      <td>-0.143175</td>\n",
       "      <td>-0.125743</td>\n",
       "      <td>0.421671</td>\n",
       "      <td>-0.005463</td>\n",
       "      <td>0.004370</td>\n",
       "    </tr>\n",
       "    <tr>\n",
       "      <th>4</th>\n",
       "      <td>0.629893</td>\n",
       "      <td>0.156578</td>\n",
       "      <td>0.630986</td>\n",
       "      <td>0.489290</td>\n",
       "      <td>0.430351</td>\n",
       "      <td>1</td>\n",
       "      <td>0.451996</td>\n",
       "      <td>-0.237213</td>\n",
       "      <td>-0.129287</td>\n",
       "      <td>0.007580</td>\n",
       "      <td>0.005614</td>\n",
       "    </tr>\n",
       "  </tbody>\n",
       "</table>\n",
       "</div>"
      ],
      "text/plain": [
       "   mean_radius  mean_texture  mean_perimeter  mean_area  mean_smoothness  \\\n",
       "0     0.521037      0.022658        0.545989   0.363733         0.593753   \n",
       "1     0.643144      0.272574        0.615783   0.501591         0.289880   \n",
       "2     0.601496      0.390260        0.595743   0.449417         0.514309   \n",
       "3     0.210090      0.360839        0.233501   0.102906         0.811321   \n",
       "4     0.629893      0.156578        0.630986   0.489290         0.430351   \n",
       "\n",
       "  cluster       PC1       PC2       PC3       PC4       PC5  \n",
       "0       5  0.261611 -0.401720 -0.006746 -0.024422  0.016742  \n",
       "1       1  0.468230 -0.072510 -0.206749  0.017864 -0.010151  \n",
       "2       1  0.452193 -0.060271  0.054644  0.000210 -0.004461  \n",
       "3       2 -0.143175 -0.125743  0.421671 -0.005463  0.004370  \n",
       "4       1  0.451996 -0.237213 -0.129287  0.007580  0.005614  "
      ]
     },
     "execution_count": 14,
     "metadata": {},
     "output_type": "execute_result"
    }
   ],
   "source": [
    "pca = PCA()\n",
    "\n",
    "X_pca = pca.fit_transform(X_scaled.iloc[:, :-1])\n",
    "\n",
    "component_names = [f'PC{i+1}' for i in range(X_pca.shape[1])]\n",
    "X_pca = pd.DataFrame(X_pca, columns=component_names)\n",
    "X_pca\n",
    "\n",
    "X_scaled = pd.concat([X_scaled, X_pca], axis=1)\n",
    "X_scaled.head()"
   ]
  },
  {
   "cell_type": "code",
   "execution_count": 15,
   "metadata": {},
   "outputs": [
    {
     "data": {
      "text/html": [
       "<div>\n",
       "<style scoped>\n",
       "    .dataframe tbody tr th:only-of-type {\n",
       "        vertical-align: middle;\n",
       "    }\n",
       "\n",
       "    .dataframe tbody tr th {\n",
       "        vertical-align: top;\n",
       "    }\n",
       "\n",
       "    .dataframe thead th {\n",
       "        text-align: right;\n",
       "    }\n",
       "</style>\n",
       "<table border=\"1\" class=\"dataframe\">\n",
       "  <thead>\n",
       "    <tr style=\"text-align: right;\">\n",
       "      <th></th>\n",
       "      <th>PC1_loadings</th>\n",
       "      <th>PC2_loadings</th>\n",
       "      <th>PC3_loadings</th>\n",
       "      <th>PC4_loadings</th>\n",
       "      <th>PC5_loadings</th>\n",
       "    </tr>\n",
       "  </thead>\n",
       "  <tbody>\n",
       "    <tr>\n",
       "      <th>mean_radius</th>\n",
       "      <td>0.579910</td>\n",
       "      <td>-0.082788</td>\n",
       "      <td>-0.128991</td>\n",
       "      <td>-0.364497</td>\n",
       "      <td>-0.712288</td>\n",
       "    </tr>\n",
       "    <tr>\n",
       "      <th>mean_texture</th>\n",
       "      <td>0.212876</td>\n",
       "      <td>0.880922</td>\n",
       "      <td>0.422571</td>\n",
       "      <td>0.005131</td>\n",
       "      <td>-0.008226</td>\n",
       "    </tr>\n",
       "    <tr>\n",
       "      <th>mean_perimeter</th>\n",
       "      <td>0.585001</td>\n",
       "      <td>-0.095200</td>\n",
       "      <td>-0.077873</td>\n",
       "      <td>-0.389411</td>\n",
       "      <td>0.700718</td>\n",
       "    </tr>\n",
       "    <tr>\n",
       "      <th>mean_area</th>\n",
       "      <td>0.516511</td>\n",
       "      <td>-0.078029</td>\n",
       "      <td>-0.107489</td>\n",
       "      <td>0.845760</td>\n",
       "      <td>0.016255</td>\n",
       "    </tr>\n",
       "    <tr>\n",
       "      <th>mean_smoothness</th>\n",
       "      <td>0.096844</td>\n",
       "      <td>-0.449412</td>\n",
       "      <td>0.887230</td>\n",
       "      <td>0.012849</td>\n",
       "      <td>-0.036168</td>\n",
       "    </tr>\n",
       "  </tbody>\n",
       "</table>\n",
       "</div>"
      ],
      "text/plain": [
       "                 PC1_loadings  PC2_loadings  PC3_loadings  PC4_loadings  \\\n",
       "mean_radius          0.579910     -0.082788     -0.128991     -0.364497   \n",
       "mean_texture         0.212876      0.880922      0.422571      0.005131   \n",
       "mean_perimeter       0.585001     -0.095200     -0.077873     -0.389411   \n",
       "mean_area            0.516511     -0.078029     -0.107489      0.845760   \n",
       "mean_smoothness      0.096844     -0.449412      0.887230      0.012849   \n",
       "\n",
       "                 PC5_loadings  \n",
       "mean_radius         -0.712288  \n",
       "mean_texture        -0.008226  \n",
       "mean_perimeter       0.700718  \n",
       "mean_area            0.016255  \n",
       "mean_smoothness     -0.036168  "
      ]
     },
     "execution_count": 15,
     "metadata": {},
     "output_type": "execute_result"
    }
   ],
   "source": [
    "# Looking at component loadings \n",
    "loadings = pd.DataFrame(pca.components_.T, columns=[col + '_loadings' for col in component_names],\n",
    "                        index=X_scaled.iloc[:, :5].columns)\n",
    "loadings"
   ]
  },
  {
   "cell_type": "code",
   "execution_count": 16,
   "metadata": {},
   "outputs": [
    {
     "data": {
      "text/plain": [
       "PC1    0.431116\n",
       "PC5    0.062588\n",
       "PC4    0.027761\n",
       "PC3    0.014632\n",
       "PC2    0.000000\n",
       "Name: mi_scores, dtype: float64"
      ]
     },
     "execution_count": 16,
     "metadata": {},
     "output_type": "execute_result"
    }
   ],
   "source": [
    "make_mi_scores(X_pca, y, discrete_features=False)"
   ]
  },
  {
   "cell_type": "code",
   "execution_count": 17,
   "metadata": {},
   "outputs": [],
   "source": [
    "# Creating new features using mathematical transformations\n",
    "X_scaled['RA_ratio'] = X_scaled.mean_radius / X_scaled.mean_area"
   ]
  },
  {
   "cell_type": "code",
   "execution_count": 18,
   "metadata": {},
   "outputs": [
    {
     "data": {
      "text/plain": [
       "mean_radius        0\n",
       "mean_texture       0\n",
       "mean_perimeter     0\n",
       "mean_area          0\n",
       "mean_smoothness    0\n",
       "cluster            0\n",
       "PC1                0\n",
       "PC2                0\n",
       "PC3                0\n",
       "PC4                0\n",
       "PC5                0\n",
       "RA_ratio           1\n",
       "dtype: int64"
      ]
     },
     "execution_count": 18,
     "metadata": {},
     "output_type": "execute_result"
    }
   ],
   "source": [
    "X_scaled.isnull().sum()"
   ]
  },
  {
   "cell_type": "code",
   "execution_count": 19,
   "metadata": {},
   "outputs": [],
   "source": [
    "X_scaled['RA_ratio'] = X_scaled['RA_ratio'].fillna(X_scaled['RA_ratio'].mean())"
   ]
  },
  {
   "cell_type": "code",
   "execution_count": 20,
   "metadata": {},
   "outputs": [],
   "source": [
    "X_scaled['PA_ratio'] = X_scaled['mean_perimeter'] / X_scaled['mean_area']\n",
    "X_scaled['PA_ratio'] = X_scaled['PA_ratio'].fillna(X_scaled['PA_ratio'].mean())"
   ]
  },
  {
   "cell_type": "code",
   "execution_count": 21,
   "metadata": {},
   "outputs": [],
   "source": [
    "X_scaled['perimeter_mul_area'] = X_scaled['mean_perimeter'] * X_scaled['mean_area']\n",
    "X_scaled['perimeter_mul_area'] = X_scaled['perimeter_mul_area'].fillna(X_scaled['perimeter_mul_area'].mean())"
   ]
  },
  {
   "cell_type": "code",
   "execution_count": 22,
   "metadata": {},
   "outputs": [],
   "source": [
    "X_scaled['radius_mul_area'] = X_scaled['mean_radius'] * X_scaled['mean_area']\n",
    "X_scaled['radius_mul_area'] = X_scaled['radius_mul_area'].fillna(X_scaled['radius_mul_area'].mean())"
   ]
  },
  {
   "cell_type": "code",
   "execution_count": 23,
   "metadata": {},
   "outputs": [
    {
     "data": {
      "text/plain": [
       "PC1                   0.431116\n",
       "mean_perimeter        0.402129\n",
       "RA_ratio              0.386516\n",
       "cluster               0.380849\n",
       "mean_radius           0.369566\n",
       "perimeter_mul_area    0.367313\n",
       "mean_area             0.360536\n",
       "radius_mul_area       0.340424\n",
       "PA_ratio              0.307496\n",
       "mean_texture          0.100055\n",
       "mean_smoothness       0.082835\n",
       "PC5                   0.063045\n",
       "PC4                   0.027761\n",
       "PC3                   0.014632\n",
       "PC2                   0.000000\n",
       "Name: mi_scores, dtype: float64"
      ]
     },
     "execution_count": 23,
     "metadata": {},
     "output_type": "execute_result"
    }
   ],
   "source": [
    "make_mi_scores(X_scaled, y, discrete_features=False)"
   ]
  },
  {
   "cell_type": "code",
   "execution_count": 24,
   "metadata": {},
   "outputs": [],
   "source": [
    "# selecting best features\n",
    "best_features = list(make_mi_scores(X_scaled, y, discrete_features=False).index)[:-1]"
   ]
  },
  {
   "cell_type": "code",
   "execution_count": 25,
   "metadata": {},
   "outputs": [],
   "source": [
    "# creating model\n",
    "from sklearn.ensemble import RandomForestClassifier"
   ]
  },
  {
   "cell_type": "code",
   "execution_count": 26,
   "metadata": {},
   "outputs": [],
   "source": [
    "X_scaled = X_scaled[best_features]"
   ]
  },
  {
   "cell_type": "code",
   "execution_count": 27,
   "metadata": {},
   "outputs": [],
   "source": [
    "from sklearn.model_selection import cross_val_score, train_test_split"
   ]
  },
  {
   "cell_type": "code",
   "execution_count": 28,
   "metadata": {},
   "outputs": [
    {
     "data": {
      "text/plain": [
       "array([0.9961039 , 0.94415584, 0.96825397, 0.95833333, 1.        ,\n",
       "       0.98478836, 0.98941799, 0.99140212, 0.99867725, 0.98503401])"
      ]
     },
     "execution_count": 28,
     "metadata": {},
     "output_type": "execute_result"
    }
   ],
   "source": [
    "# calculating cross val score\n",
    "forest = RandomForestClassifier(random_state=42)\n",
    "scores = cross_val_score(forest, X_scaled, y, cv=10, scoring='roc_auc')\n",
    "scores"
   ]
  },
  {
   "cell_type": "code",
   "execution_count": 29,
   "metadata": {},
   "outputs": [
    {
     "data": {
      "text/plain": [
       "0.9816166769738197"
      ]
     },
     "execution_count": 29,
     "metadata": {},
     "output_type": "execute_result"
    }
   ],
   "source": [
    "scores.mean()"
   ]
  },
  {
   "cell_type": "code",
   "execution_count": 30,
   "metadata": {},
   "outputs": [],
   "source": [
    "X_train, X_val, y_train, y_val = train_test_split(X_scaled, y, train_size=.8, random_state=42)"
   ]
  },
  {
   "cell_type": "code",
   "execution_count": 31,
   "metadata": {
    "scrolled": true
   },
   "outputs": [
    {
     "data": {
      "text/html": [
       "<div>\n",
       "<style scoped>\n",
       "    .dataframe tbody tr th:only-of-type {\n",
       "        vertical-align: middle;\n",
       "    }\n",
       "\n",
       "    .dataframe tbody tr th {\n",
       "        vertical-align: top;\n",
       "    }\n",
       "\n",
       "    .dataframe thead th {\n",
       "        text-align: right;\n",
       "    }\n",
       "</style>\n",
       "<table border=\"1\" class=\"dataframe\">\n",
       "  <thead>\n",
       "    <tr style=\"text-align: right;\">\n",
       "      <th></th>\n",
       "      <th>PC1</th>\n",
       "      <th>mean_perimeter</th>\n",
       "      <th>RA_ratio</th>\n",
       "      <th>perimeter_mul_area</th>\n",
       "      <th>mean_radius</th>\n",
       "      <th>mean_area</th>\n",
       "      <th>cluster</th>\n",
       "      <th>radius_mul_area</th>\n",
       "      <th>PA_ratio</th>\n",
       "      <th>mean_texture</th>\n",
       "      <th>mean_smoothness</th>\n",
       "      <th>PC5</th>\n",
       "      <th>PC4</th>\n",
       "      <th>PC3</th>\n",
       "    </tr>\n",
       "  </thead>\n",
       "  <tbody>\n",
       "    <tr>\n",
       "      <th>68</th>\n",
       "      <td>-0.367811</td>\n",
       "      <td>0.103656</td>\n",
       "      <td>2.135595</td>\n",
       "      <td>0.004705</td>\n",
       "      <td>0.096928</td>\n",
       "      <td>0.045387</td>\n",
       "      <td>2</td>\n",
       "      <td>0.004399</td>\n",
       "      <td>2.283814</td>\n",
       "      <td>0.257694</td>\n",
       "      <td>0.487226</td>\n",
       "      <td>0.005624</td>\n",
       "      <td>0.033007</td>\n",
       "      <td>0.121430</td>\n",
       "    </tr>\n",
       "    <tr>\n",
       "      <th>181</th>\n",
       "      <td>0.607854</td>\n",
       "      <td>0.683505</td>\n",
       "      <td>1.348379</td>\n",
       "      <td>0.338491</td>\n",
       "      <td>0.667755</td>\n",
       "      <td>0.495228</td>\n",
       "      <td>1</td>\n",
       "      <td>0.330691</td>\n",
       "      <td>1.380182</td>\n",
       "      <td>0.570172</td>\n",
       "      <td>0.554934</td>\n",
       "      <td>0.007635</td>\n",
       "      <td>-0.017927</td>\n",
       "      <td>0.146407</td>\n",
       "    </tr>\n",
       "    <tr>\n",
       "      <th>63</th>\n",
       "      <td>-0.410599</td>\n",
       "      <td>0.106489</td>\n",
       "      <td>2.083268</td>\n",
       "      <td>0.005303</td>\n",
       "      <td>0.103744</td>\n",
       "      <td>0.049799</td>\n",
       "      <td>2</td>\n",
       "      <td>0.005166</td>\n",
       "      <td>2.138394</td>\n",
       "      <td>0.140345</td>\n",
       "      <td>0.221901</td>\n",
       "      <td>0.013388</td>\n",
       "      <td>0.029139</td>\n",
       "      <td>-0.165136</td>\n",
       "    </tr>\n",
       "    <tr>\n",
       "      <th>248</th>\n",
       "      <td>-0.216874</td>\n",
       "      <td>0.167369</td>\n",
       "      <td>2.011667</td>\n",
       "      <td>0.014447</td>\n",
       "      <td>0.173648</td>\n",
       "      <td>0.086320</td>\n",
       "      <td>2</td>\n",
       "      <td>0.014989</td>\n",
       "      <td>1.938933</td>\n",
       "      <td>0.524518</td>\n",
       "      <td>0.396678</td>\n",
       "      <td>-0.002632</td>\n",
       "      <td>0.015057</td>\n",
       "      <td>0.134587</td>\n",
       "    </tr>\n",
       "    <tr>\n",
       "      <th>60</th>\n",
       "      <td>-0.311450</td>\n",
       "      <td>0.143459</td>\n",
       "      <td>2.112930</td>\n",
       "      <td>0.010248</td>\n",
       "      <td>0.150930</td>\n",
       "      <td>0.071432</td>\n",
       "      <td>2</td>\n",
       "      <td>0.010781</td>\n",
       "      <td>2.008345</td>\n",
       "      <td>0.174839</td>\n",
       "      <td>0.548614</td>\n",
       "      <td>-0.006065</td>\n",
       "      <td>0.020214</td>\n",
       "      <td>0.128019</td>\n",
       "    </tr>\n",
       "    <tr>\n",
       "      <th>...</th>\n",
       "      <td>...</td>\n",
       "      <td>...</td>\n",
       "      <td>...</td>\n",
       "      <td>...</td>\n",
       "      <td>...</td>\n",
       "      <td>...</td>\n",
       "      <td>...</td>\n",
       "      <td>...</td>\n",
       "      <td>...</td>\n",
       "      <td>...</td>\n",
       "      <td>...</td>\n",
       "      <td>...</td>\n",
       "      <td>...</td>\n",
       "      <td>...</td>\n",
       "    </tr>\n",
       "    <tr>\n",
       "      <th>71</th>\n",
       "      <td>-0.400138</td>\n",
       "      <td>0.103656</td>\n",
       "      <td>2.117178</td>\n",
       "      <td>0.004419</td>\n",
       "      <td>0.090255</td>\n",
       "      <td>0.042630</td>\n",
       "      <td>2</td>\n",
       "      <td>0.003848</td>\n",
       "      <td>2.431523</td>\n",
       "      <td>0.166723</td>\n",
       "      <td>0.408053</td>\n",
       "      <td>0.013944</td>\n",
       "      <td>0.031623</td>\n",
       "      <td>0.013901</td>\n",
       "    </tr>\n",
       "    <tr>\n",
       "      <th>106</th>\n",
       "      <td>-0.180595</td>\n",
       "      <td>0.216847</td>\n",
       "      <td>1.932472</td>\n",
       "      <td>0.024743</td>\n",
       "      <td>0.220503</td>\n",
       "      <td>0.114104</td>\n",
       "      <td>2</td>\n",
       "      <td>0.025160</td>\n",
       "      <td>1.900438</td>\n",
       "      <td>0.291512</td>\n",
       "      <td>0.555836</td>\n",
       "      <td>-0.004724</td>\n",
       "      <td>0.003059</td>\n",
       "      <td>0.164453</td>\n",
       "    </tr>\n",
       "    <tr>\n",
       "      <th>270</th>\n",
       "      <td>-0.052982</td>\n",
       "      <td>0.321401</td>\n",
       "      <td>1.667374</td>\n",
       "      <td>0.066680</td>\n",
       "      <td>0.345923</td>\n",
       "      <td>0.207466</td>\n",
       "      <td>4</td>\n",
       "      <td>0.071767</td>\n",
       "      <td>1.549180</td>\n",
       "      <td>0.240446</td>\n",
       "      <td>0.105263</td>\n",
       "      <td>-0.002562</td>\n",
       "      <td>-0.010461</td>\n",
       "      <td>-0.291243</td>\n",
       "    </tr>\n",
       "    <tr>\n",
       "      <th>435</th>\n",
       "      <td>-0.008804</td>\n",
       "      <td>0.327068</td>\n",
       "      <td>1.712553</td>\n",
       "      <td>0.063263</td>\n",
       "      <td>0.331251</td>\n",
       "      <td>0.193425</td>\n",
       "      <td>0</td>\n",
       "      <td>0.064072</td>\n",
       "      <td>1.690927</td>\n",
       "      <td>0.335137</td>\n",
       "      <td>0.481809</td>\n",
       "      <td>-0.002767</td>\n",
       "      <td>-0.013870</td>\n",
       "      <td>0.085813</td>\n",
       "    </tr>\n",
       "    <tr>\n",
       "      <th>102</th>\n",
       "      <td>-0.161386</td>\n",
       "      <td>0.231014</td>\n",
       "      <td>1.840375</td>\n",
       "      <td>0.030887</td>\n",
       "      <td>0.246060</td>\n",
       "      <td>0.133701</td>\n",
       "      <td>0</td>\n",
       "      <td>0.032898</td>\n",
       "      <td>1.727839</td>\n",
       "      <td>0.365573</td>\n",
       "      <td>0.248262</td>\n",
       "      <td>-0.002168</td>\n",
       "      <td>0.001229</td>\n",
       "      <td>-0.083646</td>\n",
       "    </tr>\n",
       "  </tbody>\n",
       "</table>\n",
       "<p>455 rows × 14 columns</p>\n",
       "</div>"
      ],
      "text/plain": [
       "          PC1  mean_perimeter  RA_ratio  perimeter_mul_area  mean_radius  \\\n",
       "68  -0.367811        0.103656  2.135595            0.004705     0.096928   \n",
       "181  0.607854        0.683505  1.348379            0.338491     0.667755   \n",
       "63  -0.410599        0.106489  2.083268            0.005303     0.103744   \n",
       "248 -0.216874        0.167369  2.011667            0.014447     0.173648   \n",
       "60  -0.311450        0.143459  2.112930            0.010248     0.150930   \n",
       "..        ...             ...       ...                 ...          ...   \n",
       "71  -0.400138        0.103656  2.117178            0.004419     0.090255   \n",
       "106 -0.180595        0.216847  1.932472            0.024743     0.220503   \n",
       "270 -0.052982        0.321401  1.667374            0.066680     0.345923   \n",
       "435 -0.008804        0.327068  1.712553            0.063263     0.331251   \n",
       "102 -0.161386        0.231014  1.840375            0.030887     0.246060   \n",
       "\n",
       "     mean_area cluster  radius_mul_area  PA_ratio  mean_texture  \\\n",
       "68    0.045387       2         0.004399  2.283814      0.257694   \n",
       "181   0.495228       1         0.330691  1.380182      0.570172   \n",
       "63    0.049799       2         0.005166  2.138394      0.140345   \n",
       "248   0.086320       2         0.014989  1.938933      0.524518   \n",
       "60    0.071432       2         0.010781  2.008345      0.174839   \n",
       "..         ...     ...              ...       ...           ...   \n",
       "71    0.042630       2         0.003848  2.431523      0.166723   \n",
       "106   0.114104       2         0.025160  1.900438      0.291512   \n",
       "270   0.207466       4         0.071767  1.549180      0.240446   \n",
       "435   0.193425       0         0.064072  1.690927      0.335137   \n",
       "102   0.133701       0         0.032898  1.727839      0.365573   \n",
       "\n",
       "     mean_smoothness       PC5       PC4       PC3  \n",
       "68          0.487226  0.005624  0.033007  0.121430  \n",
       "181         0.554934  0.007635 -0.017927  0.146407  \n",
       "63          0.221901  0.013388  0.029139 -0.165136  \n",
       "248         0.396678 -0.002632  0.015057  0.134587  \n",
       "60          0.548614 -0.006065  0.020214  0.128019  \n",
       "..               ...       ...       ...       ...  \n",
       "71          0.408053  0.013944  0.031623  0.013901  \n",
       "106         0.555836 -0.004724  0.003059  0.164453  \n",
       "270         0.105263 -0.002562 -0.010461 -0.291243  \n",
       "435         0.481809 -0.002767 -0.013870  0.085813  \n",
       "102         0.248262 -0.002168  0.001229 -0.083646  \n",
       "\n",
       "[455 rows x 14 columns]"
      ]
     },
     "execution_count": 31,
     "metadata": {},
     "output_type": "execute_result"
    }
   ],
   "source": [
    "X_train"
   ]
  },
  {
   "cell_type": "code",
   "execution_count": 32,
   "metadata": {},
   "outputs": [],
   "source": [
    "# testing again using train and validation set\n",
    "from sklearn.metrics import roc_auc_score"
   ]
  },
  {
   "cell_type": "code",
   "execution_count": 33,
   "metadata": {
    "scrolled": true
   },
   "outputs": [
    {
     "data": {
      "text/plain": [
       "0.9485751719620047"
      ]
     },
     "execution_count": 33,
     "metadata": {},
     "output_type": "execute_result"
    }
   ],
   "source": [
    "forest = RandomForestClassifier(random_state=42)\n",
    "forest.fit(X_train, y_train)\n",
    "preds = forest.predict(X_val)\n",
    "forest_roc_auc = roc_auc_score(y_val, preds)\n",
    "forest_roc_auc"
   ]
  }
 ],
 "metadata": {
  "kernelspec": {
   "display_name": "Python 3",
   "language": "python",
   "name": "python3"
  },
  "language_info": {
   "codemirror_mode": {
    "name": "ipython",
    "version": 3
   },
   "file_extension": ".py",
   "mimetype": "text/x-python",
   "name": "python",
   "nbconvert_exporter": "python",
   "pygments_lexer": "ipython3",
   "version": "3.8.3"
  }
 },
 "nbformat": 4,
 "nbformat_minor": 4
}
